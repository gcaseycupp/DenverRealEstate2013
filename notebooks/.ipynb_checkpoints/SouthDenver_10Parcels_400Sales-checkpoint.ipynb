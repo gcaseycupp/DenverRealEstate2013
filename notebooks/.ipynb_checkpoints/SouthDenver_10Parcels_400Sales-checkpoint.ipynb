{
 "cells": [
  {
   "cell_type": "markdown",
   "metadata": {},
   "source": [
    "<font color='green'>\n",
    "Notice this is a markdown section, not code.\n",
    "\n",
    "Keys - Enter to move to next line.\n",
    "Shift - Enter to execute this section\n",
    "\n",
    "Shift - Tab for intellisense\n"
   ]
  },
  {
   "cell_type": "code",
   "execution_count": 12,
   "metadata": {},
   "outputs": [
    {
     "name": "stdout",
     "output_type": "stream",
     "text": [
      "test\n"
     ]
    }
   ],
   "source": [
    "print('test')"
   ]
  },
  {
   "cell_type": "code",
   "execution_count": 22,
   "metadata": {},
   "outputs": [],
   "source": [
    "import pandas as pd                 # pandas is a dataframe library\n",
    "import matplotlib.pyplot as plt      # matplotlib.pyplot plots data\n",
    "import os\n",
    "\n",
    "%matplotlib inline"
   ]
  },
  {
   "cell_type": "code",
   "execution_count": 24,
   "metadata": {},
   "outputs": [],
   "source": [
    "#read in CSV File \n",
    "df = pd.read_csv(\"./SouthDenver_10Parcels_400Sales.csv\")"
   ]
  },
  {
   "cell_type": "code",
   "execution_count": 25,
   "metadata": {},
   "outputs": [
    {
     "data": {
      "text/plain": [
       "(397, 14)"
      ]
     },
     "execution_count": 25,
     "metadata": {},
     "output_type": "execute_result"
    }
   ],
   "source": [
    "df.shape"
   ]
  },
  {
   "cell_type": "code",
   "execution_count": 26,
   "metadata": {},
   "outputs": [
    {
     "data": {
      "text/html": [
       "<div>\n",
       "<style scoped>\n",
       "    .dataframe tbody tr th:only-of-type {\n",
       "        vertical-align: middle;\n",
       "    }\n",
       "\n",
       "    .dataframe tbody tr th {\n",
       "        vertical-align: top;\n",
       "    }\n",
       "\n",
       "    .dataframe thead th {\n",
       "        text-align: right;\n",
       "    }\n",
       "</style>\n",
       "<table border=\"1\" class=\"dataframe\">\n",
       "  <thead>\n",
       "    <tr style=\"text-align: right;\">\n",
       "      <th></th>\n",
       "      <th>NBHD</th>\n",
       "      <th>LIVEAREA</th>\n",
       "      <th>FINBSMNT</th>\n",
       "      <th>BASEMENT</th>\n",
       "      <th>YRBUILT</th>\n",
       "      <th>CONDITION</th>\n",
       "      <th>QUALITY</th>\n",
       "      <th>STORIES</th>\n",
       "      <th>NUMBDRM</th>\n",
       "      <th>NUMBATHS</th>\n",
       "      <th>GARTYPE</th>\n",
       "      <th>ARCSTYLE</th>\n",
       "      <th>SPRICE</th>\n",
       "      <th>NETPRICE</th>\n",
       "    </tr>\n",
       "  </thead>\n",
       "  <tbody>\n",
       "    <tr>\n",
       "      <td>0</td>\n",
       "      <td>674</td>\n",
       "      <td>1329</td>\n",
       "      <td>0</td>\n",
       "      <td>0</td>\n",
       "      <td>1956</td>\n",
       "      <td>Good</td>\n",
       "      <td>C</td>\n",
       "      <td>1</td>\n",
       "      <td>3</td>\n",
       "      <td>2</td>\n",
       "      <td>Att</td>\n",
       "      <td>ONE-STORY</td>\n",
       "      <td>248950</td>\n",
       "      <td>245450</td>\n",
       "    </tr>\n",
       "    <tr>\n",
       "      <td>1</td>\n",
       "      <td>674</td>\n",
       "      <td>2750</td>\n",
       "      <td>0</td>\n",
       "      <td>2080</td>\n",
       "      <td>2006</td>\n",
       "      <td>AVG</td>\n",
       "      <td>B</td>\n",
       "      <td>2</td>\n",
       "      <td>4</td>\n",
       "      <td>4</td>\n",
       "      <td>Att</td>\n",
       "      <td>TWO-STORY</td>\n",
       "      <td>640000</td>\n",
       "      <td>640000</td>\n",
       "    </tr>\n",
       "    <tr>\n",
       "      <td>2</td>\n",
       "      <td>674</td>\n",
       "      <td>907</td>\n",
       "      <td>0</td>\n",
       "      <td>0</td>\n",
       "      <td>1952</td>\n",
       "      <td>AVG</td>\n",
       "      <td>C</td>\n",
       "      <td>1</td>\n",
       "      <td>3</td>\n",
       "      <td>2</td>\n",
       "      <td>Det</td>\n",
       "      <td>ONE-STORY</td>\n",
       "      <td>205500</td>\n",
       "      <td>202000</td>\n",
       "    </tr>\n",
       "    <tr>\n",
       "      <td>3</td>\n",
       "      <td>674</td>\n",
       "      <td>2058</td>\n",
       "      <td>0</td>\n",
       "      <td>0</td>\n",
       "      <td>2012</td>\n",
       "      <td>AVG</td>\n",
       "      <td>B</td>\n",
       "      <td>2</td>\n",
       "      <td>3</td>\n",
       "      <td>3</td>\n",
       "      <td>Att</td>\n",
       "      <td>TWO-STORY</td>\n",
       "      <td>185500</td>\n",
       "      <td>185500</td>\n",
       "    </tr>\n",
       "    <tr>\n",
       "      <td>4</td>\n",
       "      <td>674</td>\n",
       "      <td>2058</td>\n",
       "      <td>0</td>\n",
       "      <td>0</td>\n",
       "      <td>2012</td>\n",
       "      <td>AVG</td>\n",
       "      <td>B</td>\n",
       "      <td>2</td>\n",
       "      <td>3</td>\n",
       "      <td>3</td>\n",
       "      <td>Att</td>\n",
       "      <td>TWO-STORY</td>\n",
       "      <td>185500</td>\n",
       "      <td>185500</td>\n",
       "    </tr>\n",
       "  </tbody>\n",
       "</table>\n",
       "</div>"
      ],
      "text/plain": [
       "   NBHD  LIVEAREA  FINBSMNT  BASEMENT  YRBUILT CONDITION QUALITY  STORIES  \\\n",
       "0   674      1329         0         0     1956      Good       C        1   \n",
       "1   674      2750         0      2080     2006       AVG       B        2   \n",
       "2   674       907         0         0     1952       AVG       C        1   \n",
       "3   674      2058         0         0     2012       AVG       B        2   \n",
       "4   674      2058         0         0     2012       AVG       B        2   \n",
       "\n",
       "   NUMBDRM  NUMBATHS GARTYPE   ARCSTYLE  SPRICE  NETPRICE  \n",
       "0        3         2     Att  ONE-STORY  248950    245450  \n",
       "1        4         4     Att  TWO-STORY  640000    640000  \n",
       "2        3         2     Det  ONE-STORY  205500    202000  \n",
       "3        3         3     Att  TWO-STORY  185500    185500  \n",
       "4        3         3     Att  TWO-STORY  185500    185500  "
      ]
     },
     "execution_count": 26,
     "metadata": {},
     "output_type": "execute_result"
    }
   ],
   "source": [
    "df.head(5)"
   ]
  },
  {
   "cell_type": "markdown",
   "metadata": {},
   "source": [
    "<font color='green'>Cheated here.. I did find a null falue.. stole someone else's code"
   ]
  },
  {
   "cell_type": "code",
   "execution_count": 27,
   "metadata": {},
   "outputs": [
    {
     "data": {
      "text/plain": [
       "NBHD         False\n",
       "LIVEAREA     False\n",
       "FINBSMNT     False\n",
       "BASEMENT     False\n",
       "YRBUILT      False\n",
       "CONDITION    False\n",
       "QUALITY      False\n",
       "STORIES      False\n",
       "NUMBDRM      False\n",
       "NUMBATHS     False\n",
       "GARTYPE      False\n",
       "ARCSTYLE     False\n",
       "SPRICE       False\n",
       "NETPRICE     False\n",
       "dtype: bool"
      ]
     },
     "execution_count": 27,
     "metadata": {},
     "output_type": "execute_result"
    }
   ],
   "source": [
    "df.isnull().any()"
   ]
  },
  {
   "cell_type": "code",
   "execution_count": 39,
   "metadata": {},
   "outputs": [],
   "source": [
    "def plot_corr(df, size=10):\n",
    "    \"\"\"\n",
    "    Function plots a graphical correlation matrix for each pair of columns in the dataframe.\n",
    "\n",
    "    Input:\n",
    "        df: pandas DataFrame\n",
    "        size: vertical and horizontal size of the plot\n",
    "\n",
    "    Displays:\n",
    "        matrix of correlation between columns.  Blue-cyan-yellow-red-darkred => less to more correlated\n",
    "                                                0 ------------------>  1\n",
    "                                                Expect a darkred line running from top left to bottom right\n",
    "    \"\"\"\n",
    "\n",
    "    corr = df.corr()    # data frame correlation function\n",
    "    fig, ax = plt.subplots(figsize=(size, size))\n",
    "    ax.matshow(corr)   # color code the rectangles by correlation value\n",
    "    plt.xticks(range(len(corr.columns)), corr.columns)  # draw x tick marks\n",
    "    plt.yticks(range(len(corr.columns)), corr.columns)  # draw y tick marks"
   ]
  },
  {
   "cell_type": "code",
   "execution_count": 40,
   "metadata": {},
   "outputs": [
    {
     "data": {
      "image/png": "[encoded data removed]",
      "text/plain": [
       "<Figure size 720x720 with 1 Axes>"
      ]
     },
     "metadata": {
      "needs_background": "light"
     },
     "output_type": "display_data"
    }
   ],
   "source": [
    "plot_corr(df)"
   ]
  },
  {
   "cell_type": "code",
   "execution_count": 30,
   "metadata": {},
   "outputs": [
    {
     "data": {
      "text/html": [
       "<div>\n",
       "<style scoped>\n",
       "    .dataframe tbody tr th:only-of-type {\n",
       "        vertical-align: middle;\n",
       "    }\n",
       "\n",
       "    .dataframe tbody tr th {\n",
       "        vertical-align: top;\n",
       "    }\n",
       "\n",
       "    .dataframe thead th {\n",
       "        text-align: right;\n",
       "    }\n",
       "</style>\n",
       "<table border=\"1\" class=\"dataframe\">\n",
       "  <thead>\n",
       "    <tr style=\"text-align: right;\">\n",
       "      <th></th>\n",
       "      <th>NBHD</th>\n",
       "      <th>LIVEAREA</th>\n",
       "      <th>FINBSMNT</th>\n",
       "      <th>BASEMENT</th>\n",
       "      <th>YRBUILT</th>\n",
       "      <th>STORIES</th>\n",
       "      <th>NUMBDRM</th>\n",
       "      <th>NUMBATHS</th>\n",
       "      <th>SPRICE</th>\n",
       "      <th>NETPRICE</th>\n",
       "    </tr>\n",
       "  </thead>\n",
       "  <tbody>\n",
       "    <tr>\n",
       "      <td>NBHD</td>\n",
       "      <td>1.000000</td>\n",
       "      <td>0.259890</td>\n",
       "      <td>0.193840</td>\n",
       "      <td>0.245763</td>\n",
       "      <td>0.574130</td>\n",
       "      <td>0.209476</td>\n",
       "      <td>-0.038676</td>\n",
       "      <td>0.396411</td>\n",
       "      <td>0.055834</td>\n",
       "      <td>0.057782</td>\n",
       "    </tr>\n",
       "    <tr>\n",
       "      <td>LIVEAREA</td>\n",
       "      <td>0.259890</td>\n",
       "      <td>1.000000</td>\n",
       "      <td>0.375630</td>\n",
       "      <td>0.529143</td>\n",
       "      <td>0.245500</td>\n",
       "      <td>0.458552</td>\n",
       "      <td>0.675781</td>\n",
       "      <td>0.737603</td>\n",
       "      <td>0.779242</td>\n",
       "      <td>0.779815</td>\n",
       "    </tr>\n",
       "    <tr>\n",
       "      <td>FINBSMNT</td>\n",
       "      <td>0.193840</td>\n",
       "      <td>0.375630</td>\n",
       "      <td>1.000000</td>\n",
       "      <td>0.833759</td>\n",
       "      <td>0.048126</td>\n",
       "      <td>0.205812</td>\n",
       "      <td>0.244496</td>\n",
       "      <td>0.621753</td>\n",
       "      <td>0.568986</td>\n",
       "      <td>0.568608</td>\n",
       "    </tr>\n",
       "    <tr>\n",
       "      <td>BASEMENT</td>\n",
       "      <td>0.245763</td>\n",
       "      <td>0.529143</td>\n",
       "      <td>0.833759</td>\n",
       "      <td>1.000000</td>\n",
       "      <td>0.118636</td>\n",
       "      <td>0.283701</td>\n",
       "      <td>0.351361</td>\n",
       "      <td>0.664827</td>\n",
       "      <td>0.672774</td>\n",
       "      <td>0.672432</td>\n",
       "    </tr>\n",
       "    <tr>\n",
       "      <td>YRBUILT</td>\n",
       "      <td>0.574130</td>\n",
       "      <td>0.245500</td>\n",
       "      <td>0.048126</td>\n",
       "      <td>0.118636</td>\n",
       "      <td>1.000000</td>\n",
       "      <td>0.430473</td>\n",
       "      <td>-0.157021</td>\n",
       "      <td>0.310553</td>\n",
       "      <td>0.032686</td>\n",
       "      <td>0.036429</td>\n",
       "    </tr>\n",
       "    <tr>\n",
       "      <td>STORIES</td>\n",
       "      <td>0.209476</td>\n",
       "      <td>0.458552</td>\n",
       "      <td>0.205812</td>\n",
       "      <td>0.283701</td>\n",
       "      <td>0.430473</td>\n",
       "      <td>1.000000</td>\n",
       "      <td>0.228432</td>\n",
       "      <td>0.503113</td>\n",
       "      <td>0.283021</td>\n",
       "      <td>0.284466</td>\n",
       "    </tr>\n",
       "    <tr>\n",
       "      <td>NUMBDRM</td>\n",
       "      <td>-0.038676</td>\n",
       "      <td>0.675781</td>\n",
       "      <td>0.244496</td>\n",
       "      <td>0.351361</td>\n",
       "      <td>-0.157021</td>\n",
       "      <td>0.228432</td>\n",
       "      <td>1.000000</td>\n",
       "      <td>0.548215</td>\n",
       "      <td>0.565130</td>\n",
       "      <td>0.562708</td>\n",
       "    </tr>\n",
       "    <tr>\n",
       "      <td>NUMBATHS</td>\n",
       "      <td>0.396411</td>\n",
       "      <td>0.737603</td>\n",
       "      <td>0.621753</td>\n",
       "      <td>0.664827</td>\n",
       "      <td>0.310553</td>\n",
       "      <td>0.503113</td>\n",
       "      <td>0.548215</td>\n",
       "      <td>1.000000</td>\n",
       "      <td>0.652346</td>\n",
       "      <td>0.652418</td>\n",
       "    </tr>\n",
       "    <tr>\n",
       "      <td>SPRICE</td>\n",
       "      <td>0.055834</td>\n",
       "      <td>0.779242</td>\n",
       "      <td>0.568986</td>\n",
       "      <td>0.672774</td>\n",
       "      <td>0.032686</td>\n",
       "      <td>0.283021</td>\n",
       "      <td>0.565130</td>\n",
       "      <td>0.652346</td>\n",
       "      <td>1.000000</td>\n",
       "      <td>0.999892</td>\n",
       "    </tr>\n",
       "    <tr>\n",
       "      <td>NETPRICE</td>\n",
       "      <td>0.057782</td>\n",
       "      <td>0.779815</td>\n",
       "      <td>0.568608</td>\n",
       "      <td>0.672432</td>\n",
       "      <td>0.036429</td>\n",
       "      <td>0.284466</td>\n",
       "      <td>0.562708</td>\n",
       "      <td>0.652418</td>\n",
       "      <td>0.999892</td>\n",
       "      <td>1.000000</td>\n",
       "    </tr>\n",
       "  </tbody>\n",
       "</table>\n",
       "</div>"
      ],
      "text/plain": [
       "              NBHD  LIVEAREA  FINBSMNT  BASEMENT   YRBUILT   STORIES  \\\n",
       "NBHD      1.000000  0.259890  0.193840  0.245763  0.574130  0.209476   \n",
       "LIVEAREA  0.259890  1.000000  0.375630  0.529143  0.245500  0.458552   \n",
       "FINBSMNT  0.193840  0.375630  1.000000  0.833759  0.048126  0.205812   \n",
       "BASEMENT  0.245763  0.529143  0.833759  1.000000  0.118636  0.283701   \n",
       "YRBUILT   0.574130  0.245500  0.048126  0.118636  1.000000  0.430473   \n",
       "STORIES   0.209476  0.458552  0.205812  0.283701  0.430473  1.000000   \n",
       "NUMBDRM  -0.038676  0.675781  0.244496  0.351361 -0.157021  0.228432   \n",
       "NUMBATHS  0.396411  0.737603  0.621753  0.664827  0.310553  0.503113   \n",
       "SPRICE    0.055834  0.779242  0.568986  0.672774  0.032686  0.283021   \n",
       "NETPRICE  0.057782  0.779815  0.568608  0.672432  0.036429  0.284466   \n",
       "\n",
       "           NUMBDRM  NUMBATHS    SPRICE  NETPRICE  \n",
       "NBHD     -0.038676  0.396411  0.055834  0.057782  \n",
       "LIVEAREA  0.675781  0.737603  0.779242  0.779815  \n",
       "FINBSMNT  0.244496  0.621753  0.568986  0.568608  \n",
       "BASEMENT  0.351361  0.664827  0.672774  0.672432  \n",
       "YRBUILT  -0.157021  0.310553  0.032686  0.036429  \n",
       "STORIES   0.228432  0.503113  0.283021  0.284466  \n",
       "NUMBDRM   1.000000  0.548215  0.565130  0.562708  \n",
       "NUMBATHS  0.548215  1.000000  0.652346  0.652418  \n",
       "SPRICE    0.565130  0.652346  1.000000  0.999892  \n",
       "NETPRICE  0.562708  0.652418  0.999892  1.000000  "
      ]
     },
     "execution_count": 30,
     "metadata": {},
     "output_type": "execute_result"
    }
   ],
   "source": [
    "df.corr()"
   ]
  },
  {
   "cell_type": "markdown",
   "metadata": {},
   "source": [
    "<font color='green'>had to remove date, type was confusing.. shouldn't really be used anyway"
   ]
  },
  {
   "cell_type": "code",
   "execution_count": 41,
   "metadata": {},
   "outputs": [],
   "source": [
    "#from sklearn.cross_validation import train_test_split\n",
    "from sklearn.model_selection import train_test_split\n",
    "feature_col_names = ['NBHD','LIVEAREA','FINBSMNT','BASEMENT','YRBUILT','STORIES','NUMBDRM','NUMBATHS'  ]\n",
    "predicted_class_names = ['SPRICE']\n",
    "\n",
    "X = df[feature_col_names].values     # predictor feature columns (8 X m)\n",
    "y = df[predicted_class_names].values # predicted class (1=true, 0=false) column (1 X m)\n",
    "split_test_size = 0.30\n",
    "\n",
    "X_train, X_test, y_train, y_test = train_test_split(X, y, test_size=split_test_size, random_state=42) \n",
    "                            # test_size = 0.3 is 30%, 42 is the answer to everything"
   ]
  },
  {
   "cell_type": "code",
   "execution_count": 42,
   "metadata": {},
   "outputs": [
    {
     "name": "stdout",
     "output_type": "stream",
     "text": [
      "69.77% in training set\n",
      "30.23% in test set\n"
     ]
    }
   ],
   "source": [
    "print(\"{0:0.2f}% in training set\".format((len(X_train)/len(df.index)) * 100))\n",
    "print(\"{0:0.2f}% in test set\".format((len(X_test)/len(df.index)) * 100))"
   ]
  },
  {
   "cell_type": "code",
   "execution_count": 43,
   "metadata": {},
   "outputs": [
    {
     "data": {
      "text/plain": [
       "GaussianNB(priors=None, var_smoothing=1e-09)"
      ]
     },
     "execution_count": 43,
     "metadata": {},
     "output_type": "execute_result"
    }
   ],
   "source": [
    "from sklearn.naive_bayes import GaussianNB\n",
    "\n",
    "# create Gaussian Naive Bayes model object and train it with the data\n",
    "nb_model = GaussianNB()\n",
    "\n",
    "nb_model.fit(X_train, y_train.ravel())"
   ]
  },
  {
   "cell_type": "code",
   "execution_count": 44,
   "metadata": {},
   "outputs": [
    {
     "name": "stdout",
     "output_type": "stream",
     "text": [
      "Accuracy: 0.7148\n",
      "\n"
     ]
    }
   ],
   "source": [
    "# Naive Bayes  predict values using the training data\n",
    "nb_predict_train = nb_model.predict(X_train)\n",
    "\n",
    "# import the performance metrics library\n",
    "from sklearn import metrics\n",
    "\n",
    "# Accuracy\n",
    "print(\"Accuracy: {0:.4f}\".format(metrics.accuracy_score(y_train, nb_predict_train)))\n",
    "print()"
   ]
  },
  {
   "cell_type": "code",
   "execution_count": 45,
   "metadata": {},
   "outputs": [
    {
     "name": "stdout",
     "output_type": "stream",
     "text": [
      "nb_predict_test [385000 282000  59900 147000 147000 125000 275000  51500  50000 275000\n",
      " 225000  36777 417000 165000  55000 140000 125000 100000 354685 282000\n",
      " 195700 302000 275000 147000 225000 350000 275000 125000 115000 275000\n",
      " 275000 289000 350000 125000 202000 225000 275000  45000 289000 140000\n",
      " 125000 265000 147000  36777  31000 275000 225000 125000 202000 330000\n",
      " 282000 211500 330000 330000 202000 202000  86000 299900  32000  45637\n",
      " 125000 180931  36777 275000 225000  33157 289000 125000  37500  47000\n",
      " 125000 125000  36777 125000 385000 275000 289000 140000 185500 125000\n",
      " 202000 385000  29000 147000  70000 225000  95500 275000 320000 202000\n",
      " 225000 100000 100000 289000  36777 125000 275000 225000 289000 385000\n",
      " 147000 180000  55000 125000 180500 282000 150500 289000 202000 140000\n",
      " 275000  36777 125000 147000 275000 275000  55000 282000 202000 385000]\n",
      "y_test [[352000]\n",
      " [521900]\n",
      " [101500]\n",
      " [146000]\n",
      " [118000]\n",
      " [210000]\n",
      " [205052]\n",
      " [ 40000]\n",
      " [ 48000]\n",
      " [350000]\n",
      " [317500]\n",
      " [ 30000]\n",
      " [417500]\n",
      " [268000]\n",
      " [ 61000]\n",
      " [125130]\n",
      " [194000]\n",
      " [127000]\n",
      " [ 30000]\n",
      " [467000]\n",
      " [117000]\n",
      " [374000]\n",
      " [267245]\n",
      " [245450]\n",
      " [276500]\n",
      " [350000]\n",
      " [300000]\n",
      " [184375]\n",
      " [ 52100]\n",
      " [335000]\n",
      " [315000]\n",
      " [300000]\n",
      " [315000]\n",
      " [183000]\n",
      " [234500]\n",
      " [208900]\n",
      " [326000]\n",
      " [ 26000]\n",
      " [435000]\n",
      " [128000]\n",
      " [117000]\n",
      " [212080]\n",
      " [180000]\n",
      " [ 51500]\n",
      " [ 42000]\n",
      " [236500]\n",
      " [354000]\n",
      " [221500]\n",
      " [223880]\n",
      " [437500]\n",
      " [400000]\n",
      " [131500]\n",
      " [440000]\n",
      " [322500]\n",
      " [720000]\n",
      " [411170]\n",
      " [ 88780]\n",
      " [225000]\n",
      " [ 41500]\n",
      " [ 61740]\n",
      " [205575]\n",
      " [189000]\n",
      " [ 45000]\n",
      " [241551]\n",
      " [114500]\n",
      " [ 30000]\n",
      " [526824]\n",
      " [118750]\n",
      " [ 42000]\n",
      " [ 34900]\n",
      " [211000]\n",
      " [128000]\n",
      " [ 40000]\n",
      " [284500]\n",
      " [245000]\n",
      " [225000]\n",
      " [295200]\n",
      " [ 93709]\n",
      " [185500]\n",
      " [208000]\n",
      " [275025]\n",
      " [367945]\n",
      " [ 39900]\n",
      " [232000]\n",
      " [150000]\n",
      " [292800]\n",
      " [102500]\n",
      " [270000]\n",
      " [190000]\n",
      " [429900]\n",
      " [239900]\n",
      " [126000]\n",
      " [123000]\n",
      " [205000]\n",
      " [ 45100]\n",
      " [141000]\n",
      " [395000]\n",
      " [203000]\n",
      " [428800]\n",
      " [305000]\n",
      " [214000]\n",
      " [270500]\n",
      " [ 70000]\n",
      " [145000]\n",
      " [237113]\n",
      " [330000]\n",
      " [320000]\n",
      " [265000]\n",
      " [312000]\n",
      " [ 95000]\n",
      " [504000]\n",
      " [ 40000]\n",
      " [217000]\n",
      " [209754]\n",
      " [219500]\n",
      " [852000]\n",
      " [ 50000]\n",
      " [462500]\n",
      " [655000]\n",
      " [230000]]\n",
      "Accuracy: 0.0167\n"
     ]
    }
   ],
   "source": [
    "# Naive Bayes predict values using the testing data\n",
    "nb_predict_test = nb_model.predict(X_test)\n",
    "\n",
    "from sklearn import metrics\n",
    "\n",
    "# training metrics\n",
    "print(\"nb_predict_test\", nb_predict_test)\n",
    "print (\"y_test\", y_test)\n",
    "print(\"Accuracy: {0:.4f}\".format(metrics.accuracy_score(y_test, nb_predict_test)))\n"
   ]
  },
  {
   "cell_type": "code",
   "execution_count": 46,
   "metadata": {},
   "outputs": [
    {
     "data": {
      "text/plain": [
       "RandomForestClassifier(bootstrap=True, class_weight=None, criterion='gini',\n",
       "                       max_depth=None, max_features='auto', max_leaf_nodes=None,\n",
       "                       min_impurity_decrease=0.0, min_impurity_split=None,\n",
       "                       min_samples_leaf=1, min_samples_split=2,\n",
       "                       min_weight_fraction_leaf=0.0, n_estimators=10,\n",
       "                       n_jobs=None, oob_score=False, random_state=42, verbose=0,\n",
       "                       warm_start=False)"
      ]
     },
     "execution_count": 46,
     "metadata": {},
     "output_type": "execute_result"
    }
   ],
   "source": [
    "# Try Random Forest\n",
    "from sklearn.ensemble import RandomForestClassifier\n",
    "rf_model = RandomForestClassifier(random_state=42, n_estimators=10)      # Create random forest object\n",
    "rf_model.fit(X_train, y_train.ravel()) "
   ]
  },
  {
   "cell_type": "code",
   "execution_count": 47,
   "metadata": {},
   "outputs": [
    {
     "name": "stdout",
     "output_type": "stream",
     "text": [
      "Accuracy: 0.7617\n"
     ]
    }
   ],
   "source": [
    "# Random Forest  predict values using the TRAINING data\n",
    "rf_predict_train = rf_model.predict(X_train)\n",
    "# training metrics\n",
    "print(\"Accuracy: {0:.4f}\".format(metrics.accuracy_score(y_train, rf_predict_train)))"
   ]
  },
  {
   "cell_type": "code",
   "execution_count": 48,
   "metadata": {},
   "outputs": [
    {
     "name": "stdout",
     "output_type": "stream",
     "text": [
      "Accuracy: 0.0083\n"
     ]
    }
   ],
   "source": [
    "# Random Forest  predict values using the TEST data\n",
    "rf_predict_test = rf_model.predict(X_test)\n",
    "\n",
    "# training metrics\n",
    "print(\"Accuracy: {0:.4f}\".format(metrics.accuracy_score(y_test, rf_predict_test)))"
   ]
  },
  {
   "cell_type": "code",
   "execution_count": null,
   "metadata": {},
   "outputs": [],
   "source": []
  },
  {
   "cell_type": "code",
   "execution_count": null,
   "metadata": {},
   "outputs": [],
   "source": []
  },
  {
   "cell_type": "code",
   "execution_count": null,
   "metadata": {},
   "outputs": [],
   "source": []
  }
 ],
 "metadata": {
  "kernelspec": {
   "display_name": "Python 3",
   "language": "python",
   "name": "python3"
  },
  "language_info": {
   "codemirror_mode": {
    "name": "ipython",
    "version": 3
   },
   "file_extension": ".py",
   "mimetype": "text/x-python",
   "name": "python",
   "nbconvert_exporter": "python",
   "pygments_lexer": "ipython3",
   "version": "3.7.4"
  }
 },
 "nbformat": 4,
 "nbformat_minor": 2
}
