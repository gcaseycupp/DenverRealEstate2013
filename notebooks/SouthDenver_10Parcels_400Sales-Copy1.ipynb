{
 "cells": [
  {
   "cell_type": "markdown",
   "metadata": {},
   "source": [
    "<font color='green'>\n",
    "Notice this is a markdown section, not code.\n",
    "\n",
    "Keys - Enter to move to next line.\n",
    "Shift - Enter to execute this section\n",
    "\n",
    "Shift - Tab for intellisense\n"
   ]
  },
  {
   "cell_type": "code",
   "execution_count": 12,
   "metadata": {},
   "outputs": [
    {
     "name": "stdout",
     "output_type": "stream",
     "text": [
      "test\n"
     ]
    }
   ],
   "source": [
    "print('test')"
   ]
  },
  {
   "cell_type": "code",
   "execution_count": 13,
   "metadata": {},
   "outputs": [],
   "source": [
    "import pandas as pd                 # pandas is a dataframe library\n",
    "import matplotlib.pyplot as plt      # matplotlib.pyplot plots data\n",
    "\n",
    "%matplotlib inline"
   ]
  },
  {
   "cell_type": "code",
   "execution_count": 14,
   "metadata": {},
   "outputs": [
    {
     "ename": "FileNotFoundError",
     "evalue": "[Errno 2] File b'./data/SouthDenver_10Parcels_400Sales.csv' does not exist: b'./data/SouthDenver_10Parcels_400Sales.csv'",
     "output_type": "error",
     "traceback": [
      "\u001b[1;31m---------------------------------------------------------------------------\u001b[0m",
      "\u001b[1;31mFileNotFoundError\u001b[0m                         Traceback (most recent call last)",
      "\u001b[1;32m<ipython-input-14-5efd50c9dc88>\u001b[0m in \u001b[0;36m<module>\u001b[1;34m\u001b[0m\n\u001b[1;32m----> 1\u001b[1;33m \u001b[0mdf\u001b[0m \u001b[1;33m=\u001b[0m \u001b[0mpd\u001b[0m\u001b[1;33m.\u001b[0m\u001b[0mread_csv\u001b[0m\u001b[1;33m(\u001b[0m\u001b[1;34m\"./data/SouthDenver_10Parcels_400Sales.csv\"\u001b[0m\u001b[1;33m)\u001b[0m\u001b[1;33m\u001b[0m\u001b[1;33m\u001b[0m\u001b[0m\n\u001b[0m",
      "\u001b[1;32m~\\Anaconda3\\lib\\site-packages\\pandas\\io\\parsers.py\u001b[0m in \u001b[0;36mparser_f\u001b[1;34m(filepath_or_buffer, sep, delimiter, header, names, index_col, usecols, squeeze, prefix, mangle_dupe_cols, dtype, engine, converters, true_values, false_values, skipinitialspace, skiprows, skipfooter, nrows, na_values, keep_default_na, na_filter, verbose, skip_blank_lines, parse_dates, infer_datetime_format, keep_date_col, date_parser, dayfirst, cache_dates, iterator, chunksize, compression, thousands, decimal, lineterminator, quotechar, quoting, doublequote, escapechar, comment, encoding, dialect, error_bad_lines, warn_bad_lines, delim_whitespace, low_memory, memory_map, float_precision)\u001b[0m\n\u001b[0;32m    683\u001b[0m         )\n\u001b[0;32m    684\u001b[0m \u001b[1;33m\u001b[0m\u001b[0m\n\u001b[1;32m--> 685\u001b[1;33m         \u001b[1;32mreturn\u001b[0m \u001b[0m_read\u001b[0m\u001b[1;33m(\u001b[0m\u001b[0mfilepath_or_buffer\u001b[0m\u001b[1;33m,\u001b[0m \u001b[0mkwds\u001b[0m\u001b[1;33m)\u001b[0m\u001b[1;33m\u001b[0m\u001b[1;33m\u001b[0m\u001b[0m\n\u001b[0m\u001b[0;32m    686\u001b[0m \u001b[1;33m\u001b[0m\u001b[0m\n\u001b[0;32m    687\u001b[0m     \u001b[0mparser_f\u001b[0m\u001b[1;33m.\u001b[0m\u001b[0m__name__\u001b[0m \u001b[1;33m=\u001b[0m \u001b[0mname\u001b[0m\u001b[1;33m\u001b[0m\u001b[1;33m\u001b[0m\u001b[0m\n",
      "\u001b[1;32m~\\Anaconda3\\lib\\site-packages\\pandas\\io\\parsers.py\u001b[0m in \u001b[0;36m_read\u001b[1;34m(filepath_or_buffer, kwds)\u001b[0m\n\u001b[0;32m    455\u001b[0m \u001b[1;33m\u001b[0m\u001b[0m\n\u001b[0;32m    456\u001b[0m     \u001b[1;31m# Create the parser.\u001b[0m\u001b[1;33m\u001b[0m\u001b[1;33m\u001b[0m\u001b[1;33m\u001b[0m\u001b[0m\n\u001b[1;32m--> 457\u001b[1;33m     \u001b[0mparser\u001b[0m \u001b[1;33m=\u001b[0m \u001b[0mTextFileReader\u001b[0m\u001b[1;33m(\u001b[0m\u001b[0mfp_or_buf\u001b[0m\u001b[1;33m,\u001b[0m \u001b[1;33m**\u001b[0m\u001b[0mkwds\u001b[0m\u001b[1;33m)\u001b[0m\u001b[1;33m\u001b[0m\u001b[1;33m\u001b[0m\u001b[0m\n\u001b[0m\u001b[0;32m    458\u001b[0m \u001b[1;33m\u001b[0m\u001b[0m\n\u001b[0;32m    459\u001b[0m     \u001b[1;32mif\u001b[0m \u001b[0mchunksize\u001b[0m \u001b[1;32mor\u001b[0m \u001b[0miterator\u001b[0m\u001b[1;33m:\u001b[0m\u001b[1;33m\u001b[0m\u001b[1;33m\u001b[0m\u001b[0m\n",
      "\u001b[1;32m~\\Anaconda3\\lib\\site-packages\\pandas\\io\\parsers.py\u001b[0m in \u001b[0;36m__init__\u001b[1;34m(self, f, engine, **kwds)\u001b[0m\n\u001b[0;32m    893\u001b[0m             \u001b[0mself\u001b[0m\u001b[1;33m.\u001b[0m\u001b[0moptions\u001b[0m\u001b[1;33m[\u001b[0m\u001b[1;34m\"has_index_names\"\u001b[0m\u001b[1;33m]\u001b[0m \u001b[1;33m=\u001b[0m \u001b[0mkwds\u001b[0m\u001b[1;33m[\u001b[0m\u001b[1;34m\"has_index_names\"\u001b[0m\u001b[1;33m]\u001b[0m\u001b[1;33m\u001b[0m\u001b[1;33m\u001b[0m\u001b[0m\n\u001b[0;32m    894\u001b[0m \u001b[1;33m\u001b[0m\u001b[0m\n\u001b[1;32m--> 895\u001b[1;33m         \u001b[0mself\u001b[0m\u001b[1;33m.\u001b[0m\u001b[0m_make_engine\u001b[0m\u001b[1;33m(\u001b[0m\u001b[0mself\u001b[0m\u001b[1;33m.\u001b[0m\u001b[0mengine\u001b[0m\u001b[1;33m)\u001b[0m\u001b[1;33m\u001b[0m\u001b[1;33m\u001b[0m\u001b[0m\n\u001b[0m\u001b[0;32m    896\u001b[0m \u001b[1;33m\u001b[0m\u001b[0m\n\u001b[0;32m    897\u001b[0m     \u001b[1;32mdef\u001b[0m \u001b[0mclose\u001b[0m\u001b[1;33m(\u001b[0m\u001b[0mself\u001b[0m\u001b[1;33m)\u001b[0m\u001b[1;33m:\u001b[0m\u001b[1;33m\u001b[0m\u001b[1;33m\u001b[0m\u001b[0m\n",
      "\u001b[1;32m~\\Anaconda3\\lib\\site-packages\\pandas\\io\\parsers.py\u001b[0m in \u001b[0;36m_make_engine\u001b[1;34m(self, engine)\u001b[0m\n\u001b[0;32m   1133\u001b[0m     \u001b[1;32mdef\u001b[0m \u001b[0m_make_engine\u001b[0m\u001b[1;33m(\u001b[0m\u001b[0mself\u001b[0m\u001b[1;33m,\u001b[0m \u001b[0mengine\u001b[0m\u001b[1;33m=\u001b[0m\u001b[1;34m\"c\"\u001b[0m\u001b[1;33m)\u001b[0m\u001b[1;33m:\u001b[0m\u001b[1;33m\u001b[0m\u001b[1;33m\u001b[0m\u001b[0m\n\u001b[0;32m   1134\u001b[0m         \u001b[1;32mif\u001b[0m \u001b[0mengine\u001b[0m \u001b[1;33m==\u001b[0m \u001b[1;34m\"c\"\u001b[0m\u001b[1;33m:\u001b[0m\u001b[1;33m\u001b[0m\u001b[1;33m\u001b[0m\u001b[0m\n\u001b[1;32m-> 1135\u001b[1;33m             \u001b[0mself\u001b[0m\u001b[1;33m.\u001b[0m\u001b[0m_engine\u001b[0m \u001b[1;33m=\u001b[0m \u001b[0mCParserWrapper\u001b[0m\u001b[1;33m(\u001b[0m\u001b[0mself\u001b[0m\u001b[1;33m.\u001b[0m\u001b[0mf\u001b[0m\u001b[1;33m,\u001b[0m \u001b[1;33m**\u001b[0m\u001b[0mself\u001b[0m\u001b[1;33m.\u001b[0m\u001b[0moptions\u001b[0m\u001b[1;33m)\u001b[0m\u001b[1;33m\u001b[0m\u001b[1;33m\u001b[0m\u001b[0m\n\u001b[0m\u001b[0;32m   1136\u001b[0m         \u001b[1;32melse\u001b[0m\u001b[1;33m:\u001b[0m\u001b[1;33m\u001b[0m\u001b[1;33m\u001b[0m\u001b[0m\n\u001b[0;32m   1137\u001b[0m             \u001b[1;32mif\u001b[0m \u001b[0mengine\u001b[0m \u001b[1;33m==\u001b[0m \u001b[1;34m\"python\"\u001b[0m\u001b[1;33m:\u001b[0m\u001b[1;33m\u001b[0m\u001b[1;33m\u001b[0m\u001b[0m\n",
      "\u001b[1;32m~\\Anaconda3\\lib\\site-packages\\pandas\\io\\parsers.py\u001b[0m in \u001b[0;36m__init__\u001b[1;34m(self, src, **kwds)\u001b[0m\n\u001b[0;32m   1915\u001b[0m         \u001b[0mkwds\u001b[0m\u001b[1;33m[\u001b[0m\u001b[1;34m\"usecols\"\u001b[0m\u001b[1;33m]\u001b[0m \u001b[1;33m=\u001b[0m \u001b[0mself\u001b[0m\u001b[1;33m.\u001b[0m\u001b[0musecols\u001b[0m\u001b[1;33m\u001b[0m\u001b[1;33m\u001b[0m\u001b[0m\n\u001b[0;32m   1916\u001b[0m \u001b[1;33m\u001b[0m\u001b[0m\n\u001b[1;32m-> 1917\u001b[1;33m         \u001b[0mself\u001b[0m\u001b[1;33m.\u001b[0m\u001b[0m_reader\u001b[0m \u001b[1;33m=\u001b[0m \u001b[0mparsers\u001b[0m\u001b[1;33m.\u001b[0m\u001b[0mTextReader\u001b[0m\u001b[1;33m(\u001b[0m\u001b[0msrc\u001b[0m\u001b[1;33m,\u001b[0m \u001b[1;33m**\u001b[0m\u001b[0mkwds\u001b[0m\u001b[1;33m)\u001b[0m\u001b[1;33m\u001b[0m\u001b[1;33m\u001b[0m\u001b[0m\n\u001b[0m\u001b[0;32m   1918\u001b[0m         \u001b[0mself\u001b[0m\u001b[1;33m.\u001b[0m\u001b[0munnamed_cols\u001b[0m \u001b[1;33m=\u001b[0m \u001b[0mself\u001b[0m\u001b[1;33m.\u001b[0m\u001b[0m_reader\u001b[0m\u001b[1;33m.\u001b[0m\u001b[0munnamed_cols\u001b[0m\u001b[1;33m\u001b[0m\u001b[1;33m\u001b[0m\u001b[0m\n\u001b[0;32m   1919\u001b[0m \u001b[1;33m\u001b[0m\u001b[0m\n",
      "\u001b[1;32mpandas\\_libs\\parsers.pyx\u001b[0m in \u001b[0;36mpandas._libs.parsers.TextReader.__cinit__\u001b[1;34m()\u001b[0m\n",
      "\u001b[1;32mpandas\\_libs\\parsers.pyx\u001b[0m in \u001b[0;36mpandas._libs.parsers.TextReader._setup_parser_source\u001b[1;34m()\u001b[0m\n",
      "\u001b[1;31mFileNotFoundError\u001b[0m: [Errno 2] File b'./data/SouthDenver_10Parcels_400Sales.csv' does not exist: b'./data/SouthDenver_10Parcels_400Sales.csv'"
     ]
    }
   ],
   "source": [
    "df = pd.read_csv(\"./data/SouthDenver_10Parcels_400Sales.csv\")"
   ]
  },
  {
   "cell_type": "code",
   "execution_count": 5,
   "metadata": {},
   "outputs": [
    {
     "ename": "NameError",
     "evalue": "name 'df' is not defined",
     "output_type": "error",
     "traceback": [
      "\u001b[1;31m---------------------------------------------------------------------------\u001b[0m",
      "\u001b[1;31mNameError\u001b[0m                                 Traceback (most recent call last)",
      "\u001b[1;32m<ipython-input-5-633337079cd0>\u001b[0m in \u001b[0;36m<module>\u001b[1;34m\u001b[0m\n\u001b[1;32m----> 1\u001b[1;33m \u001b[0mdf\u001b[0m\u001b[1;33m.\u001b[0m\u001b[0mshape\u001b[0m\u001b[1;33m\u001b[0m\u001b[1;33m\u001b[0m\u001b[0m\n\u001b[0m",
      "\u001b[1;31mNameError\u001b[0m: name 'df' is not defined"
     ]
    }
   ],
   "source": [
    "df.shape"
   ]
  },
  {
   "cell_type": "code",
   "execution_count": null,
   "metadata": {},
   "outputs": [],
   "source": [
    "df.head(5)"
   ]
  },
  {
   "cell_type": "markdown",
   "metadata": {},
   "source": [
    "<font color='green'>Cheated here.. I did find a null falue.. stole someone else's code"
   ]
  },
  {
   "cell_type": "code",
   "execution_count": 147,
   "metadata": {},
   "outputs": [
    {
     "data": {
      "text/plain": [
       "NBHD         False\n",
       "LIVEAREA     False\n",
       "FINBSMNT     False\n",
       "BASEMENT     False\n",
       "YRBUILT      False\n",
       "CONDITION    False\n",
       "QUALITY      False\n",
       "STORIES      False\n",
       "NUMBDRM      False\n",
       "NUMBATHS     False\n",
       "GARTYPE      False\n",
       "ARCSTYLE     False\n",
       "SPRICE       False\n",
       "NETPRICE     False\n",
       "dtype: bool"
      ]
     },
     "execution_count": 147,
     "metadata": {},
     "output_type": "execute_result"
    }
   ],
   "source": [
    "df.isnull().any()"
   ]
  },
  {
   "cell_type": "code",
   "execution_count": 148,
   "metadata": {},
   "outputs": [],
   "source": [
    "def plot_corr(df, size=15):\n",
    "    \"\"\"\n",
    "    Function plots a graphical correlation matrix for each pair of columns in the dataframe.\n",
    "\n",
    "    Input:\n",
    "        df: pandas DataFrame\n",
    "        size: vertical and horizontal size of the plot\n",
    "\n",
    "    Displays:\n",
    "        matrix of correlation between columns.  Blue-cyan-yellow-red-darkred => less to more correlated\n",
    "                                                0 ------------------>  1\n",
    "                                                Expect a darkred line running from top left to bottom right\n",
    "    \"\"\"\n",
    "\n",
    "    corr = df.corr()    # data frame correlation function\n",
    "    fig, ax = plt.subplots(figsize=(size, size))\n",
    "    ax.matshow(corr)   # color code the rectangles by correlation value\n",
    "    plt.xticks(range(len(corr.columns)), corr.columns)  # draw x tick marks\n",
    "    plt.yticks(range(len(corr.columns)), corr.columns)  # draw y tick marks"
   ]
  },
  {
   "cell_type": "code",
   "execution_count": 149,
   "metadata": {},
   "outputs": [
    {
     "data": {
      "image/png": "[encoded data removed]",
      "text/plain": [
       "<Figure size 1080x1080 with 1 Axes>"
      ]
     },
     "metadata": {
      "needs_background": "light"
     },
     "output_type": "display_data"
    }
   ],
   "source": [
    "plot_corr(df)"
   ]
  },
  {
   "cell_type": "code",
   "execution_count": 150,
   "metadata": {},
   "outputs": [
    {
     "data": {
      "text/html": [
       "<div>\n",
       "<style scoped>\n",
       "    .dataframe tbody tr th:only-of-type {\n",
       "        vertical-align: middle;\n",
       "    }\n",
       "\n",
       "    .dataframe tbody tr th {\n",
       "        vertical-align: top;\n",
       "    }\n",
       "\n",
       "    .dataframe thead th {\n",
       "        text-align: right;\n",
       "    }\n",
       "</style>\n",
       "<table border=\"1\" class=\"dataframe\">\n",
       "  <thead>\n",
       "    <tr style=\"text-align: right;\">\n",
       "      <th></th>\n",
       "      <th>NBHD</th>\n",
       "      <th>LIVEAREA</th>\n",
       "      <th>FINBSMNT</th>\n",
       "      <th>BASEMENT</th>\n",
       "      <th>YRBUILT</th>\n",
       "      <th>STORIES</th>\n",
       "      <th>NUMBDRM</th>\n",
       "      <th>NUMBATHS</th>\n",
       "      <th>SPRICE</th>\n",
       "      <th>NETPRICE</th>\n",
       "    </tr>\n",
       "  </thead>\n",
       "  <tbody>\n",
       "    <tr>\n",
       "      <td>NBHD</td>\n",
       "      <td>1.000000</td>\n",
       "      <td>0.259890</td>\n",
       "      <td>0.193840</td>\n",
       "      <td>0.245763</td>\n",
       "      <td>0.574130</td>\n",
       "      <td>0.209476</td>\n",
       "      <td>-0.038676</td>\n",
       "      <td>0.396411</td>\n",
       "      <td>0.055834</td>\n",
       "      <td>0.057782</td>\n",
       "    </tr>\n",
       "    <tr>\n",
       "      <td>LIVEAREA</td>\n",
       "      <td>0.259890</td>\n",
       "      <td>1.000000</td>\n",
       "      <td>0.375630</td>\n",
       "      <td>0.529143</td>\n",
       "      <td>0.245500</td>\n",
       "      <td>0.458552</td>\n",
       "      <td>0.675781</td>\n",
       "      <td>0.737603</td>\n",
       "      <td>0.779242</td>\n",
       "      <td>0.779815</td>\n",
       "    </tr>\n",
       "    <tr>\n",
       "      <td>FINBSMNT</td>\n",
       "      <td>0.193840</td>\n",
       "      <td>0.375630</td>\n",
       "      <td>1.000000</td>\n",
       "      <td>0.833759</td>\n",
       "      <td>0.048126</td>\n",
       "      <td>0.205812</td>\n",
       "      <td>0.244496</td>\n",
       "      <td>0.621753</td>\n",
       "      <td>0.568986</td>\n",
       "      <td>0.568608</td>\n",
       "    </tr>\n",
       "    <tr>\n",
       "      <td>BASEMENT</td>\n",
       "      <td>0.245763</td>\n",
       "      <td>0.529143</td>\n",
       "      <td>0.833759</td>\n",
       "      <td>1.000000</td>\n",
       "      <td>0.118636</td>\n",
       "      <td>0.283701</td>\n",
       "      <td>0.351361</td>\n",
       "      <td>0.664827</td>\n",
       "      <td>0.672774</td>\n",
       "      <td>0.672432</td>\n",
       "    </tr>\n",
       "    <tr>\n",
       "      <td>YRBUILT</td>\n",
       "      <td>0.574130</td>\n",
       "      <td>0.245500</td>\n",
       "      <td>0.048126</td>\n",
       "      <td>0.118636</td>\n",
       "      <td>1.000000</td>\n",
       "      <td>0.430473</td>\n",
       "      <td>-0.157021</td>\n",
       "      <td>0.310553</td>\n",
       "      <td>0.032686</td>\n",
       "      <td>0.036429</td>\n",
       "    </tr>\n",
       "    <tr>\n",
       "      <td>STORIES</td>\n",
       "      <td>0.209476</td>\n",
       "      <td>0.458552</td>\n",
       "      <td>0.205812</td>\n",
       "      <td>0.283701</td>\n",
       "      <td>0.430473</td>\n",
       "      <td>1.000000</td>\n",
       "      <td>0.228432</td>\n",
       "      <td>0.503113</td>\n",
       "      <td>0.283021</td>\n",
       "      <td>0.284466</td>\n",
       "    </tr>\n",
       "    <tr>\n",
       "      <td>NUMBDRM</td>\n",
       "      <td>-0.038676</td>\n",
       "      <td>0.675781</td>\n",
       "      <td>0.244496</td>\n",
       "      <td>0.351361</td>\n",
       "      <td>-0.157021</td>\n",
       "      <td>0.228432</td>\n",
       "      <td>1.000000</td>\n",
       "      <td>0.548215</td>\n",
       "      <td>0.565130</td>\n",
       "      <td>0.562708</td>\n",
       "    </tr>\n",
       "    <tr>\n",
       "      <td>NUMBATHS</td>\n",
       "      <td>0.396411</td>\n",
       "      <td>0.737603</td>\n",
       "      <td>0.621753</td>\n",
       "      <td>0.664827</td>\n",
       "      <td>0.310553</td>\n",
       "      <td>0.503113</td>\n",
       "      <td>0.548215</td>\n",
       "      <td>1.000000</td>\n",
       "      <td>0.652346</td>\n",
       "      <td>0.652418</td>\n",
       "    </tr>\n",
       "    <tr>\n",
       "      <td>SPRICE</td>\n",
       "      <td>0.055834</td>\n",
       "      <td>0.779242</td>\n",
       "      <td>0.568986</td>\n",
       "      <td>0.672774</td>\n",
       "      <td>0.032686</td>\n",
       "      <td>0.283021</td>\n",
       "      <td>0.565130</td>\n",
       "      <td>0.652346</td>\n",
       "      <td>1.000000</td>\n",
       "      <td>0.999892</td>\n",
       "    </tr>\n",
       "    <tr>\n",
       "      <td>NETPRICE</td>\n",
       "      <td>0.057782</td>\n",
       "      <td>0.779815</td>\n",
       "      <td>0.568608</td>\n",
       "      <td>0.672432</td>\n",
       "      <td>0.036429</td>\n",
       "      <td>0.284466</td>\n",
       "      <td>0.562708</td>\n",
       "      <td>0.652418</td>\n",
       "      <td>0.999892</td>\n",
       "      <td>1.000000</td>\n",
       "    </tr>\n",
       "  </tbody>\n",
       "</table>\n",
       "</div>"
      ],
      "text/plain": [
       "              NBHD  LIVEAREA  FINBSMNT  BASEMENT   YRBUILT   STORIES  \\\n",
       "NBHD      1.000000  0.259890  0.193840  0.245763  0.574130  0.209476   \n",
       "LIVEAREA  0.259890  1.000000  0.375630  0.529143  0.245500  0.458552   \n",
       "FINBSMNT  0.193840  0.375630  1.000000  0.833759  0.048126  0.205812   \n",
       "BASEMENT  0.245763  0.529143  0.833759  1.000000  0.118636  0.283701   \n",
       "YRBUILT   0.574130  0.245500  0.048126  0.118636  1.000000  0.430473   \n",
       "STORIES   0.209476  0.458552  0.205812  0.283701  0.430473  1.000000   \n",
       "NUMBDRM  -0.038676  0.675781  0.244496  0.351361 -0.157021  0.228432   \n",
       "NUMBATHS  0.396411  0.737603  0.621753  0.664827  0.310553  0.503113   \n",
       "SPRICE    0.055834  0.779242  0.568986  0.672774  0.032686  0.283021   \n",
       "NETPRICE  0.057782  0.779815  0.568608  0.672432  0.036429  0.284466   \n",
       "\n",
       "           NUMBDRM  NUMBATHS    SPRICE  NETPRICE  \n",
       "NBHD     -0.038676  0.396411  0.055834  0.057782  \n",
       "LIVEAREA  0.675781  0.737603  0.779242  0.779815  \n",
       "FINBSMNT  0.244496  0.621753  0.568986  0.568608  \n",
       "BASEMENT  0.351361  0.664827  0.672774  0.672432  \n",
       "YRBUILT  -0.157021  0.310553  0.032686  0.036429  \n",
       "STORIES   0.228432  0.503113  0.283021  0.284466  \n",
       "NUMBDRM   1.000000  0.548215  0.565130  0.562708  \n",
       "NUMBATHS  0.548215  1.000000  0.652346  0.652418  \n",
       "SPRICE    0.565130  0.652346  1.000000  0.999892  \n",
       "NETPRICE  0.562708  0.652418  0.999892  1.000000  "
      ]
     },
     "execution_count": 150,
     "metadata": {},
     "output_type": "execute_result"
    }
   ],
   "source": [
    "df.corr()"
   ]
  },
  {
   "cell_type": "markdown",
   "metadata": {},
   "source": [
    "<font color='green'>had to remove date, type was confusing.. shouldn't really be used anyway"
   ]
  },
  {
   "cell_type": "code",
   "execution_count": 182,
   "metadata": {},
   "outputs": [],
   "source": [
    "#from sklearn.cross_validation import train_test_split\n",
    "from sklearn.model_selection import train_test_split\n",
    "#feature_col_names = ['DayOfWeekNumeric','Precip','PrecipYesNo','TempMax','TempMin','TempAvgHigh','TempAvgLow','TempMaxGroup','TempMinGroup']\n",
    "feature_col_names = ['NBHD','LIVEAREA','FINBSMNT','BASEMENT','YRBUILT','STORIES','NUMBDRM','NUMBATHS'  ]\n",
    "predicted_class_names = ['SPRICE']\n",
    "\n",
    "X = df[feature_col_names].values     # predictor feature columns (8 X m)\n",
    "y = df[predicted_class_names].values # predicted class (1=true, 0=false) column (1 X m)\n",
    "split_test_size = 0.30\n",
    "\n",
    "X_train, X_test, y_train, y_test = train_test_split(X, y, test_size=split_test_size, random_state=42) \n",
    "                            # test_size = 0.3 is 30%, 42 is the answer to everything"
   ]
  },
  {
   "cell_type": "code",
   "execution_count": 183,
   "metadata": {},
   "outputs": [
    {
     "name": "stdout",
     "output_type": "stream",
     "text": [
      "69.77% in training set\n",
      "30.23% in test set\n"
     ]
    }
   ],
   "source": [
    "print(\"{0:0.2f}% in training set\".format((len(X_train)/len(df.index)) * 100))\n",
    "print(\"{0:0.2f}% in test set\".format((len(X_test)/len(df.index)) * 100))"
   ]
  },
  {
   "cell_type": "code",
   "execution_count": 184,
   "metadata": {},
   "outputs": [
    {
     "data": {
      "text/plain": [
       "GaussianNB(priors=None, var_smoothing=1e-09)"
      ]
     },
     "execution_count": 184,
     "metadata": {},
     "output_type": "execute_result"
    }
   ],
   "source": [
    "from sklearn.naive_bayes import GaussianNB\n",
    "\n",
    "# create Gaussian Naive Bayes model object and train it with the data\n",
    "nb_model = GaussianNB()\n",
    "\n",
    "nb_model.fit(X_train, y_train.ravel())"
   ]
  },
  {
   "cell_type": "code",
   "execution_count": 185,
   "metadata": {},
   "outputs": [
    {
     "name": "stdout",
     "output_type": "stream",
     "text": [
      "Accuracy: 0.6643\n",
      "\n"
     ]
    }
   ],
   "source": [
    "# Naive Bayes  predict values using the training data\n",
    "nb_predict_train = nb_model.predict(X_train)\n",
    "\n",
    "# import the performance metrics library\n",
    "from sklearn import metrics\n",
    "\n",
    "# Accuracy\n",
    "print(\"Accuracy: {0:.4f}\".format(metrics.accuracy_score(y_train, nb_predict_train)))\n",
    "print()"
   ]
  },
  {
   "cell_type": "code",
   "execution_count": 186,
   "metadata": {},
   "outputs": [
    {
     "name": "stdout",
     "output_type": "stream",
     "text": [
      "nb_predict_test [275000 380000  59900 147000 147000 100000 370000  50000  50000 350000\n",
      " 225000  36777 417500 165000  57300  85000 195000 127000 354685 525000\n",
      " 198000 330000 330000 147000 235000 350000 370000 125000 115000 279000\n",
      " 370000 350000 350000 195000 235000 235000 240000  45000 350000 140000\n",
      " 125000 370000 147000  36777  31000 370000 280000 125000 290000 330000\n",
      " 525000 211500 330000 330000 300000 380000  86000 299900  32000  48500\n",
      " 125000 184000  36777 330000 225000  33157 290000 100000  37500  47000\n",
      " 125000 195000  36777 227000 280000 275000 275000  85000 185500 125000\n",
      " 255000 275000  29000 147000  70000 225000 100000 330000 320000 525000\n",
      " 225000 127000 127000 225000  36777 100000 370000 235000 350000 275000\n",
      " 215000 180000  57300 195000 215000 285000 225000 290000 315000 140000\n",
      " 370000  36777 100000 147000 370000 275000  57300 285000 290000 275000]\n",
      "y_test [[352000]\n",
      " [521900]\n",
      " [101500]\n",
      " [146000]\n",
      " [118000]\n",
      " [210000]\n",
      " [209000]\n",
      " [ 40000]\n",
      " [ 48000]\n",
      " [350000]\n",
      " [317500]\n",
      " [ 30000]\n",
      " [417500]\n",
      " [268000]\n",
      " [ 61000]\n",
      " [129000]\n",
      " [195000]\n",
      " [127000]\n",
      " [ 30000]\n",
      " [467000]\n",
      " [117000]\n",
      " [375000]\n",
      " [267245]\n",
      " [248950]\n",
      " [276500]\n",
      " [350000]\n",
      " [304000]\n",
      " [187500]\n",
      " [ 52100]\n",
      " [340000]\n",
      " [320000]\n",
      " [300000]\n",
      " [315000]\n",
      " [188000]\n",
      " [240000]\n",
      " [215000]\n",
      " [326000]\n",
      " [ 26000]\n",
      " [435000]\n",
      " [128000]\n",
      " [117000]\n",
      " [218000]\n",
      " [182000]\n",
      " [ 51500]\n",
      " [ 42000]\n",
      " [239000]\n",
      " [354000]\n",
      " [224500]\n",
      " [227500]\n",
      " [442500]\n",
      " [400000]\n",
      " [131500]\n",
      " [440000]\n",
      " [327500]\n",
      " [720000]\n",
      " [412500]\n",
      " [ 92000]\n",
      " [225000]\n",
      " [ 41500]\n",
      " [ 63000]\n",
      " [210000]\n",
      " [189000]\n",
      " [ 45000]\n",
      " [243000]\n",
      " [114500]\n",
      " [ 30000]\n",
      " [526824]\n",
      " [118750]\n",
      " [ 42000]\n",
      " [ 34900]\n",
      " [211000]\n",
      " [128000]\n",
      " [ 40000]\n",
      " [287500]\n",
      " [245000]\n",
      " [225000]\n",
      " [303000]\n",
      " [ 97000]\n",
      " [185500]\n",
      " [213000]\n",
      " [285000]\n",
      " [372000]\n",
      " [ 39900]\n",
      " [232000]\n",
      " [155000]\n",
      " [299000]\n",
      " [102500]\n",
      " [275000]\n",
      " [190000]\n",
      " [429900]\n",
      " [239900]\n",
      " [126000]\n",
      " [123000]\n",
      " [208000]\n",
      " [ 45100]\n",
      " [143000]\n",
      " [395000]\n",
      " [203000]\n",
      " [430000]\n",
      " [305000]\n",
      " [214000]\n",
      " [270500]\n",
      " [ 70000]\n",
      " [145000]\n",
      " [242000]\n",
      " [330000]\n",
      " [320000]\n",
      " [265000]\n",
      " [312000]\n",
      " [ 95000]\n",
      " [504000]\n",
      " [ 40000]\n",
      " [217000]\n",
      " [213000]\n",
      " [219500]\n",
      " [852000]\n",
      " [ 50000]\n",
      " [462500]\n",
      " [655000]\n",
      " [230000]]\n",
      "Accuracy: 0.0500\n"
     ]
    }
   ],
   "source": [
    "# Naive Bayes predict values using the testing data\n",
    "nb_predict_test = nb_model.predict(X_test)\n",
    "\n",
    "from sklearn import metrics\n",
    "\n",
    "# training metrics\n",
    "print(\"nb_predict_test\", nb_predict_test)\n",
    "print (\"y_test\", y_test)\n",
    "print(\"Accuracy: {0:.4f}\".format(metrics.accuracy_score(y_test, nb_predict_test)))\n"
   ]
  },
  {
   "cell_type": "code",
   "execution_count": 187,
   "metadata": {},
   "outputs": [
    {
     "data": {
      "text/plain": [
       "RandomForestClassifier(bootstrap=True, class_weight=None, criterion='gini',\n",
       "                       max_depth=None, max_features='auto', max_leaf_nodes=None,\n",
       "                       min_impurity_decrease=0.0, min_impurity_split=None,\n",
       "                       min_samples_leaf=1, min_samples_split=2,\n",
       "                       min_weight_fraction_leaf=0.0, n_estimators=10,\n",
       "                       n_jobs=None, oob_score=False, random_state=42, verbose=0,\n",
       "                       warm_start=False)"
      ]
     },
     "execution_count": 187,
     "metadata": {},
     "output_type": "execute_result"
    }
   ],
   "source": [
    "# Try Random Forest\n",
    "from sklearn.ensemble import RandomForestClassifier\n",
    "rf_model = RandomForestClassifier(random_state=42, n_estimators=10)      # Create random forest object\n",
    "rf_model.fit(X_train, y_train.ravel()) "
   ]
  },
  {
   "cell_type": "code",
   "execution_count": 188,
   "metadata": {},
   "outputs": [
    {
     "name": "stdout",
     "output_type": "stream",
     "text": [
      "Accuracy: 0.7617\n"
     ]
    }
   ],
   "source": [
    "# Random Forest  predict values using the TRAINING data\n",
    "rf_predict_train = rf_model.predict(X_train)\n",
    "# training metrics\n",
    "print(\"Accuracy: {0:.4f}\".format(metrics.accuracy_score(y_train, rf_predict_train)))"
   ]
  },
  {
   "cell_type": "code",
   "execution_count": 189,
   "metadata": {},
   "outputs": [
    {
     "name": "stdout",
     "output_type": "stream",
     "text": [
      "Accuracy: 0.0333\n"
     ]
    }
   ],
   "source": [
    "# Random Forest  predict values using the TEST data\n",
    "rf_predict_test = rf_model.predict(X_test)\n",
    "\n",
    "# training metrics\n",
    "print(\"Accuracy: {0:.4f}\".format(metrics.accuracy_score(y_test, rf_predict_test)))"
   ]
  },
  {
   "cell_type": "code",
   "execution_count": null,
   "metadata": {},
   "outputs": [],
   "source": []
  },
  {
   "cell_type": "code",
   "execution_count": null,
   "metadata": {},
   "outputs": [],
   "source": []
  },
  {
   "cell_type": "code",
   "execution_count": null,
   "metadata": {},
   "outputs": [],
   "source": []
  }
 ],
 "metadata": {
  "kernelspec": {
   "display_name": "Python 3",
   "language": "python",
   "name": "python3"
  },
  "language_info": {
   "codemirror_mode": {
    "name": "ipython",
    "version": 3
   },
   "file_extension": ".py",
   "mimetype": "text/x-python",
   "name": "python",
   "nbconvert_exporter": "python",
   "pygments_lexer": "ipython3",
   "version": "3.7.4"
  }
 },
 "nbformat": 4,
 "nbformat_minor": 2
}
